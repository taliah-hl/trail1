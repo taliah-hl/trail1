{
 "cells": [
  {
   "cell_type": "markdown",
   "metadata": {},
   "source": [
    "First Jupter notebooks.. just trying how to use!\n",
    "Let's show some game"
   ]
  },
  {
   "cell_type": "markdown",
   "metadata": {},
   "source": [
    "#this is to try build a user database using dictionary\n",
    "First, import everything required"
   ]
  },
  {
   "cell_type": "code",
   "execution_count": null,
   "metadata": {},
   "outputs": [],
   "source": [
    "from tkinter import *"
   ]
  },
  {
   "cell_type": "markdown",
   "metadata": {},
   "source": [
    "Then build the basic things"
   ]
  },
  {
   "cell_type": "code",
   "execution_count": null,
   "metadata": {},
   "outputs": [],
   "source": [
    "win = Tk()\n",
    "win.title('User Data Bank')\n",
    "win.geometry('400x300')\n",
    "win.resizable(0,0)"
   ]
  },
  {
   "cell_type": "markdown",
   "metadata": {},
   "source": [
    "I love to intialize things before running anything"
   ]
  },
  {
   "cell_type": "code",
   "execution_count": null,
   "metadata": {},
   "outputs": [],
   "source": [
    "userdata = {}\n",
    "\n",
    "userdata[1] = ( (0, 'name', 'Example'), (1, 'username', 'example_user1'), \\\n",
    "                (2, 'password', 'abc123'), (3, 'tel', '91234567'))"
   ]
  },
  {
   "cell_type": "markdown",
   "metadata": {},
   "source": [
    "Then define the function I need"
   ]
  },
  {
   "cell_type": "code",
   "execution_count": null,
   "metadata": {},
   "outputs": [],
   "source": [
    "def getentry():\n",
    "      u_id = str(id_en.get())\n",
    "      u_name = str(name_en.get())\n",
    "      u_username = str(username_en.get())\n",
    "      u_pw = str(pw_en.get())\n",
    "      u_tel = str(tel_en.get())\n",
    "      info_tuple = (u_id, u_name, u_username, u_pw, u_tel)\n",
    "      print(info_tuple)\n",
    "      return store_entry(*info_tuple)\n",
    "\n",
    "def store_entry(u_id, u_name, u_username, u_pw, u_tel):\n",
    "      if u_id == '':\n",
    "            raise ValueError('user id missing!')\n",
    "      elif u_id in userdata:\n",
    "            raise ValueError('user id duplicated!')\n",
    "      else:\n",
    "            userdata[u_id] = ( (0, 'name', u_name), \\\n",
    "                               (1, 'username', u_username), \\\n",
    "                               (2, 'password', u_pw), (3, 'tel', u_tel))\n",
    "            print(userdata)\n",
    "\n",
    "def print_msg(b):\n",
    "      ''' b is boolean, 0 = fail, 1 = sucess  '''\n",
    "      ''' need to think how to do!!! '''"
   ]
  },
  {
   "cell_type": "markdown",
   "metadata": {},
   "source": [
    "Then make the layout"
   ]
  },
  {
   "cell_type": "code",
   "execution_count": null,
   "metadata": {},
   "outputs": [],
   "source": [
    "topfram = Frame(win)\n",
    "topfram.pack(side = TOP)\n",
    "\n",
    "leftfr = Frame(topfram, width=80) #left frame\n",
    "leftfr.pack(side = LEFT)\n",
    "id_label = Label(leftfr, text = 'User ID' ,font=('Apercu light', 14), justify = LEFT)\n",
    "id_label.pack(side = TOP)\n",
    "name_label = Label(leftfr, text = 'Name'  ,font=('Apercu light', 14), justify = LEFT)\n",
    "name_label.pack(side = TOP)\n",
    "username_label = Label(leftfr, text = 'User name' ,font=('Apercu light', 14), justify = LEFT)\n",
    "username_label.pack(side = TOP)\n",
    "pw_label = Label(leftfr, text = 'Password' ,font=('Apercu light', 14), justify = LEFT)\n",
    "pw_label.pack(side = TOP)\n",
    "tel_label = Label(leftfr, text = 'Tel' ,font=('Apercu light', 14), justify = LEFT)\n",
    "tel_label.pack(side = TOP)\n",
    "\n",
    "\n",
    "rifr = Frame(topfram) #right frame\n",
    "rifr.pack(side = LEFT)\n",
    "id_en = Entry(rifr ,font=('Apercu light', 14))\n",
    "id_en.pack(side = TOP)\n",
    "name_en = Entry(rifr ,font=('Apercu light', 14))\n",
    "name_en.pack(side = TOP)\n",
    "username_en = Entry(rifr ,font=('Apercu light', 14))\n",
    "username_en.pack(side = TOP)\n",
    "pw_en = Entry(rifr, show='*' ,font=('Apercu light', 14))\n",
    "pw_en.pack(side = TOP)\n",
    "tel_en = Entry(rifr ,font=('Apercu light', 14))\n",
    "tel_en.pack(side = TOP)\n",
    "\n",
    "bot_fram = Frame(win)\n",
    "bot_fram.pack(side = TOP)\n",
    "store_btn = Button(bot_fram, text = 'Store', command = getentry)\n",
    "store_btn.pack(side = TOP)\n",
    "\n",
    "\n",
    "\n",
    "\n",
    "\n",
    "\n",
    "win.mainloop()"
   ]
  },
  {
   "cell_type": "markdown",
   "metadata": {},
   "source": [
    "Done!"
   ]
  },
  {
   "cell_type": "code",
   "execution_count": null,
   "metadata": {},
   "outputs": [],
   "source": []
  }
 ],
 "metadata": {
  "kernelspec": {
   "display_name": "Python 3",
   "language": "python",
   "name": "python3"
  },
  "language_info": {
   "codemirror_mode": {
    "name": "ipython",
    "version": 3
   },
   "file_extension": ".py",
   "mimetype": "text/x-python",
   "name": "python",
   "nbconvert_exporter": "python",
   "pygments_lexer": "ipython3",
   "version": "3.7.8"
  }
 },
 "nbformat": 4,
 "nbformat_minor": 4
}
